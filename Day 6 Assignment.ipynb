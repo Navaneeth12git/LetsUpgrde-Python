{
 "cells": [
  {
   "cell_type": "markdown",
   "metadata": {},
   "source": [
    "# Question 2"
   ]
  },
  {
   "cell_type": "code",
   "execution_count": 9,
   "metadata": {},
   "outputs": [],
   "source": [
    "import math\n",
    "pi = math.pi\n",
    "class cone():\n",
    "    def volume(R,H):\n",
    "        return (1/3)*pi*R*R*H\n",
    "    def surfacearea(R,H):\n",
    "        return pi*R*R\n",
    "    def side(R,H):\n",
    "        return pi*R* math.sqrt(R*R + H*H)"
   ]
  },
  {
   "cell_type": "code",
   "execution_count": 11,
   "metadata": {},
   "outputs": [
    {
     "name": "stdout",
     "output_type": "stream",
     "text": [
      "1.0471975511965976\n",
      "12.566370614359172\n",
      "4.442882938158366\n"
     ]
    }
   ],
   "source": [
    "print(cone.volume(1,1))\n",
    "print(cone.surfacearea(2,3))\n",
    "print(cone.side(1,1))"
   ]
  },
  {
   "cell_type": "markdown",
   "metadata": {},
   "source": [
    "# Question 1"
   ]
  },
  {
   "cell_type": "code",
   "execution_count": 21,
   "metadata": {},
   "outputs": [],
   "source": [
    "class bankaccount:\n",
    "    def __init__(self):\n",
    "        self.balance = 0\n",
    "        \n",
    "    def deposit(self):\n",
    "        amount = int(input(\"Enter the amount to deposit: \"))\n",
    "        self.balance+=amount\n",
    "        print(\"Your balance is- \", self.balance)\n",
    "    def withdraw(self):\n",
    "        amount = int(input(\"Enter amount to withdraw: \"))\n",
    "        if(amount>self.balance):\n",
    "            print(\"Insufficient balance\")\n",
    "        else:\n",
    "            self.balance-=amount\n",
    "        print(\"Your withdrawal amount is- \",amount)\n",
    "    def display(self):\n",
    "        print(\"Available balance is- \",self.balance)\n",
    "        "
   ]
  },
  {
   "cell_type": "code",
   "execution_count": 22,
   "metadata": {},
   "outputs": [
    {
     "name": "stdout",
     "output_type": "stream",
     "text": [
      "Enter the amount to deposit: 5000\n",
      "Your balance is-  5000\n",
      "Enter amount to withdraw: 1290\n",
      "Your withdrawal amount is-  1290\n",
      "Available balance is-  3710\n"
     ]
    }
   ],
   "source": [
    "s = bankaccount()\n",
    "s.deposit()\n",
    "s.withdraw()\n",
    "s.display()"
   ]
  },
  {
   "cell_type": "code",
   "execution_count": null,
   "metadata": {},
   "outputs": [],
   "source": []
  }
 ],
 "metadata": {
  "kernelspec": {
   "display_name": "Python 3",
   "language": "python",
   "name": "python3"
  },
  "language_info": {
   "codemirror_mode": {
    "name": "ipython",
    "version": 3
   },
   "file_extension": ".py",
   "mimetype": "text/x-python",
   "name": "python",
   "nbconvert_exporter": "python",
   "pygments_lexer": "ipython3",
   "version": "3.8.3"
  }
 },
 "nbformat": 4,
 "nbformat_minor": 4
}
