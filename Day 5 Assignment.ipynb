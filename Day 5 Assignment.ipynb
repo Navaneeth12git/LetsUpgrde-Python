{
 "cells": [
  {
   "cell_type": "markdown",
   "metadata": {},
   "source": [
    "# Question 1"
   ]
  },
  {
   "cell_type": "code",
   "execution_count": 36,
   "metadata": {},
   "outputs": [
    {
     "data": {
      "text/plain": [
       "'Its gone'"
      ]
     },
     "execution_count": 36,
     "metadata": {},
     "output_type": "execute_result"
    }
   ],
   "source": [
    "def sublist(lst1,lst2):\n",
    "    for i in range(len(lst1)):\n",
    "        if lst1[i] not in lst2:\n",
    "            return \"Its gone\"\n",
    "        for j in range(len(lst2)):\n",
    "            if (lst1[j] in lst2) and (lst2.index(lst1[i+1]) > lst2.index(lst1[i])):\n",
    "                return \"Its a match\"\n",
    "            else:\n",
    "                return \"Its gone\"\n",
    "lst1 = [1,5,6,4,1,2,3,5]\n",
    "lst2 = [1,1,5]\n",
    "lst3 = [1,5,6,5,1,2,3,6]\n",
    "sublist(lst3,lst2)"
   ]
  },
  {
   "cell_type": "markdown",
   "metadata": {},
   "source": [
    "# Question 2"
   ]
  },
  {
   "cell_type": "code",
   "execution_count": null,
   "metadata": {},
   "outputs": [],
   "source": [
    "def checkprime(num):\n",
    "    while num > 1:  \n",
    "        for i in range(2,num):  \n",
    "            if (num % i) == 0:\n",
    "                break\n",
    "            else:\n",
    "                return True\n",
    "lst = list(range(1000))\n",
    "lst_prime = []\n",
    "for item in lst:\n",
    "    if checkprime(item):\n",
    "        lst_prime.append(item)\n",
    "lst_primes= filter(checkprime,lst)"
   ]
  },
  {
   "cell_type": "code",
   "execution_count": null,
   "metadata": {},
   "outputs": [],
   "source": [
    "list(lst_primes)"
   ]
  },
  {
   "cell_type": "markdown",
   "metadata": {},
   "source": [
    "# Question 3"
   ]
  },
  {
   "cell_type": "code",
   "execution_count": 64,
   "metadata": {},
   "outputs": [],
   "source": [
    "lst = [\"hey i am nav\",\"i live in nandyal\"]\n",
    "wds = list(lst)"
   ]
  },
  {
   "cell_type": "code",
   "execution_count": 69,
   "metadata": {},
   "outputs": [],
   "source": [
    "def capitalise(w):\n",
    "    wds2 = [w.title() for w in wds]\n",
    "\n",
    "    print(wds2)"
   ]
  },
  {
   "cell_type": "code",
   "execution_count": 73,
   "metadata": {},
   "outputs": [
    {
     "name": "stdout",
     "output_type": "stream",
     "text": [
      "['Hey I Am Nav', 'I Live In Nandyal']\n",
      "['Hey I Am Nav', 'I Live In Nandyal']\n",
      "[None, None]\n"
     ]
    }
   ],
   "source": [
    "lst2 = map(capitalise,lst)\n",
    "print(list(lst2))"
   ]
  }
 ],
 "metadata": {
  "kernelspec": {
   "display_name": "Python 3",
   "language": "python",
   "name": "python3"
  },
  "language_info": {
   "codemirror_mode": {
    "name": "ipython",
    "version": 3
   },
   "file_extension": ".py",
   "mimetype": "text/x-python",
   "name": "python",
   "nbconvert_exporter": "python",
   "pygments_lexer": "ipython3",
   "version": "3.8.3"
  }
 },
 "nbformat": 4,
 "nbformat_minor": 4
}
