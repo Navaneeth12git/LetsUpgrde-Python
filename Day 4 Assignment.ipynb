{
 "cells": [
  {
   "cell_type": "code",
   "execution_count": 56,
   "metadata": {},
   "outputs": [
    {
     "name": "stdout",
     "output_type": "stream",
     "text": [
      "Enter lower range: 1042000\n",
      "Enter upper range: 702648265\n",
      "The first Armstrong number is:  1741725\n"
     ]
    }
   ],
   "source": [
    "lower = input(\"Enter lower range: \")\n",
    "upper = input(\"Enter upper range: \")\n",
    "\n",
    "for num in range(int(lower),int(upper)):\n",
    "    order = len(str(num))\n",
    "    sum = 0\n",
    "    temp = num\n",
    "    while temp > 0:\n",
    "        digit = temp % 10\n",
    "        sum = sum + digit ** order\n",
    "        temp = temp//10\n",
    "    if num == sum:\n",
    "        print(\"The first Armstrong number is: \",num)\n",
    "        break\n",
    "\n"
   ]
  },
  {
   "cell_type": "code",
   "execution_count": 43,
   "metadata": {},
   "outputs": [],
   "source": []
  }
 ],
 "metadata": {
  "kernelspec": {
   "display_name": "Python 3",
   "language": "python",
   "name": "python3"
  }
 },
 "nbformat": 4,
 "nbformat_minor": 4
}
